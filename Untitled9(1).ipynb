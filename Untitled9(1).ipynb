{
 "cells": [
  {
   "cell_type": "code",
   "execution_count": 19,
   "id": "1662befc",
   "metadata": {},
   "outputs": [],
   "source": [
    "import matplotlib.pyplot as plt\n",
    "from astropy.io import fits\n",
    "import numpy as np"
   ]
  },
  {
   "cell_type": "code",
   "execution_count": 21,
   "id": "10b41253",
   "metadata": {},
   "outputs": [
    {
     "ename": "AttributeError",
     "evalue": "'HDUList' object has no attribute 'data'",
     "output_type": "error",
     "traceback": [
      "\u001b[1;31m---------------------------------------------------------------------------\u001b[0m",
      "\u001b[1;31mAttributeError\u001b[0m                            Traceback (most recent call last)",
      "Cell \u001b[1;32mIn[21], line 10\u001b[0m\n\u001b[0;32m      8\u001b[0m hdulist_nir\u001b[38;5;241m=\u001b[39mfits\u001b[38;5;241m.\u001b[39mopen(\u001b[38;5;124mr\u001b[39m\u001b[38;5;124m'\u001b[39m\u001b[38;5;124mC:\u001b[39m\u001b[38;5;124m\\\u001b[39m\u001b[38;5;124mUsers\u001b[39m\u001b[38;5;124m\\\u001b[39m\u001b[38;5;124mSTUDENT 03\u001b[39m\u001b[38;5;124m\\\u001b[39m\u001b[38;5;124mDesktop\u001b[39m\u001b[38;5;124m\\\u001b[39m\u001b[38;5;124mDS9_Practice_images\u001b[39m\u001b[38;5;124m\\\u001b[39m\u001b[38;5;124mM5\u001b[39m\u001b[38;5;124m\\\u001b[39m\u001b[38;5;124mm5 dss2 nir.fits\u001b[39m\u001b[38;5;124m'\u001b[39m)\n\u001b[0;32m      9\u001b[0m hdulist_blur\u001b[38;5;241m=\u001b[39mfits\u001b[38;5;241m.\u001b[39mopen(\u001b[38;5;124mr\u001b[39m\u001b[38;5;124m'\u001b[39m\u001b[38;5;124mC:\u001b[39m\u001b[38;5;124m\\\u001b[39m\u001b[38;5;124mUsers\u001b[39m\u001b[38;5;124m\\\u001b[39m\u001b[38;5;124mSTUDENT 03\u001b[39m\u001b[38;5;124m\\\u001b[39m\u001b[38;5;124mDesktop\u001b[39m\u001b[38;5;124m\\\u001b[39m\u001b[38;5;124mDS9_Practice_images\u001b[39m\u001b[38;5;124m\\\u001b[39m\u001b[38;5;124mM5\u001b[39m\u001b[38;5;124m\\\u001b[39m\u001b[38;5;124mm5 dss2 blue.fits\u001b[39m\u001b[38;5;124m'\u001b[39m)\n\u001b[1;32m---> 10\u001b[0m data_red\u001b[38;5;241m=\u001b[39mhdulist_red\u001b[38;5;241m.\u001b[39mdata\n\u001b[0;32m     11\u001b[0m \u001b[38;5;66;03m#data_nir=hdulist_nir(0).data\u001b[39;00m\n\u001b[0;32m     12\u001b[0m \u001b[38;5;66;03m#data_blue=hdulist_blue(0).data\u001b[39;00m\n\u001b[0;32m     13\u001b[0m plt\u001b[38;5;241m.\u001b[39mfigure(figsize\u001b[38;5;241m=\u001b[39m(\u001b[38;5;241m12\u001b[39m,\u001b[38;5;241m16\u001b[39m))\n",
      "\u001b[1;31mAttributeError\u001b[0m: 'HDUList' object has no attribute 'data'"
     ]
    }
   ],
   "source": [
    "def plot_histogram (data,label,title):\n",
    "  plt.hist(np.ravel(data),bins=256,color='blue',alpha=0.5,label=label)\n",
    "  plt.xlabel('PixelValue')\n",
    "  plt.ylabel('Frequency')\n",
    "  plt.title(title)\n",
    "  plt.grid(True)\n",
    "hdulist_red=fits.open(r'C:\\Users\\STUDENT 03\\Desktop\\DS9_Practice_images\\M5\\m5 dss2 red.fits')\n",
    "hdulist_nir=fits.open(r'C:\\Users\\STUDENT 03\\Desktop\\DS9_Practice_images\\M5\\m5 dss2 nir.fits')\n",
    "hdulist_blur=fits.open(r'C:\\Users\\STUDENT 03\\Desktop\\DS9_Practice_images\\M5\\m5 dss2 blue.fits')\n",
    "data_red=hdulist_red.data\n",
    "#data_nir=hdulist_nir(0).data\n",
    "#data_blue=hdulist_blue(0).data\n",
    "plt.figure(figsize=(12,16))\n",
    "plt.subplot(121)\n",
    "plot_histogram(hdulist_red,'red','title')\n",
    "plt.legend()\n",
    "plt.tight_layout(rect=[0,0,1,0.92])"
   ]
  },
  {
   "cell_type": "code",
   "execution_count": null,
   "id": "85357c92",
   "metadata": {},
   "outputs": [],
   "source": [
    "\n",
    "plot_histogram(hdulist_red,'red','title')\n",
    "plt.legend()\n",
    "plt.tight_layout(rect=[0,0,1,0.92])"
   ]
  }
 ],
 "metadata": {
  "kernelspec": {
   "display_name": "Python 3 (ipykernel)",
   "language": "python",
   "name": "python3"
  },
  "language_info": {
   "codemirror_mode": {
    "name": "ipython",
    "version": 3
   },
   "file_extension": ".py",
   "mimetype": "text/x-python",
   "name": "python",
   "nbconvert_exporter": "python",
   "pygments_lexer": "ipython3",
   "version": "3.11.3"
  }
 },
 "nbformat": 4,
 "nbformat_minor": 5
}
