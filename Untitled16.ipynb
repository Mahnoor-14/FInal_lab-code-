{
  "nbformat": 4,
  "nbformat_minor": 0,
  "metadata": {
    "colab": {
      "provenance": []
    },
    "kernelspec": {
      "name": "python3",
      "display_name": "Python 3"
    },
    "language_info": {
      "name": "python"
    }
  },
  "cells": [
    {
      "cell_type": "code",
      "execution_count": 20,
      "metadata": {
        "id": "VompEpIpnhcf"
      },
      "outputs": [],
      "source": [
        "import matplotlib.pyplot as plt\n",
        "from astropy.io import fits\n",
        "import numpy as np"
      ]
    },
    {
      "cell_type": "code",
      "source": [
        "def plot_histogram(data,label,title):\n",
        "  plt.hist(data.ravel(),bins=256,color='blue',alpha=0.5,label=label)\n",
        "  plt.xlabel('PixelValue')\n",
        "  plt.ylabel('Frequency')\n",
        "  plt.title(title)\n",
        "  plt.grid(True)\n",
        "\n",
        "\n"
      ],
      "metadata": {
        "id": "5DKCqOnSn68t"
      },
      "execution_count": null,
      "outputs": []
    },
    {
      "cell_type": "code",
      "source": [
        "def plot_histogram(data,label,title):\n",
        "  plt.hist(np.ravel(data),bins=256,color='blue',alpha=0.5,label=label)\n",
        "  plt.xlabel('PixelValue')\n",
        "  plt.ylabel('Frequency')\n",
        "  plt.title(title)\n",
        "  plt.grid(True)\n",
        "hdulist_red = fits.open('/content/drive/MyDrive/Uni/MHRS/seven/NGC3031_DSS2_NIR.fits')\n",
        "\n",
        "#hdulist_red=fits.open(r'C:\\Users\\STUDENT 03\\Desktop\\DS9_Practice_images\\M5\\m5 dss2 red.fits')\n",
        "#hdulist_nir=fits.open(r'C:\\Users\\STUDENT 03\\Desktop\\DS9_Practice_images\\M5\\m5 dss2 nir.fits')\n",
        "#hdulist_blur=fits.open(r'C:\\Users\\STUDENT 03\\Desktop\\DS9_Practice_images\\M5\\m5 dss2 blue.fits')\n",
        "data_red= hdulist_red.data\n",
        "#data_red=hdulist_red(0).data\n",
        "plt.figure(figsize=(12,16))\n",
        "plt.subplot(121)\n",
        "plot_histogram(hdulist_red,'red','title')\n",
        "plt.subtitle('Histogram',fontsize=12)\n",
        "plt.legend()\n",
        "plt.tight_layout(rect=[0,0,1,0.92])"
      ],
      "metadata": {
        "colab": {
          "base_uri": "https://localhost:8080/",
          "height": 251
        },
        "id": "rXwuOZbvqGiT",
        "outputId": "80fa5811-cef1-44a7-b688-dddc8f913b76"
      },
      "execution_count": 22,
      "outputs": [
        {
          "output_type": "error",
          "ename": "AttributeError",
          "evalue": "ignored",
          "traceback": [
            "\u001b[0;31m---------------------------------------------------------------------------\u001b[0m",
            "\u001b[0;31mAttributeError\u001b[0m                            Traceback (most recent call last)",
            "\u001b[0;32m<ipython-input-22-24e4d10a3aa5>\u001b[0m in \u001b[0;36m<cell line: 12>\u001b[0;34m()\u001b[0m\n\u001b[1;32m     10\u001b[0m \u001b[0;31m#hdulist_nir=fits.open(r'C:\\Users\\STUDENT 03\\Desktop\\DS9_Practice_images\\M5\\m5 dss2 nir.fits')\u001b[0m\u001b[0;34m\u001b[0m\u001b[0;34m\u001b[0m\u001b[0m\n\u001b[1;32m     11\u001b[0m \u001b[0;31m#hdulist_blur=fits.open(r'C:\\Users\\STUDENT 03\\Desktop\\DS9_Practice_images\\M5\\m5 dss2 blue.fits')\u001b[0m\u001b[0;34m\u001b[0m\u001b[0;34m\u001b[0m\u001b[0m\n\u001b[0;32m---> 12\u001b[0;31m \u001b[0mdata_red\u001b[0m\u001b[0;34m=\u001b[0m \u001b[0mhdulist_red\u001b[0m\u001b[0;34m.\u001b[0m\u001b[0mdata\u001b[0m\u001b[0;34m\u001b[0m\u001b[0;34m\u001b[0m\u001b[0m\n\u001b[0m\u001b[1;32m     13\u001b[0m \u001b[0;31m#data_red=hdulist_red(0).data\u001b[0m\u001b[0;34m\u001b[0m\u001b[0;34m\u001b[0m\u001b[0m\n\u001b[1;32m     14\u001b[0m \u001b[0mplt\u001b[0m\u001b[0;34m.\u001b[0m\u001b[0mfigure\u001b[0m\u001b[0;34m(\u001b[0m\u001b[0mfigsize\u001b[0m\u001b[0;34m=\u001b[0m\u001b[0;34m(\u001b[0m\u001b[0;36m12\u001b[0m\u001b[0;34m,\u001b[0m\u001b[0;36m16\u001b[0m\u001b[0;34m)\u001b[0m\u001b[0;34m)\u001b[0m\u001b[0;34m\u001b[0m\u001b[0;34m\u001b[0m\u001b[0m\n",
            "\u001b[0;31mAttributeError\u001b[0m: 'HDUList' object has no attribute 'data'"
          ]
        }
      ]
    },
    {
      "cell_type": "code",
      "source": [],
      "metadata": {
        "id": "91mYRmAutbEf"
      },
      "execution_count": null,
      "outputs": []
    }
  ]
}